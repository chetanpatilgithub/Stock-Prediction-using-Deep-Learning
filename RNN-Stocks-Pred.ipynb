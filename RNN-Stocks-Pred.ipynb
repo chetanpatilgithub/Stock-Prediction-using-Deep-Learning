{
 "cells": [
  {
   "cell_type": "markdown",
   "metadata": {
    "colab_type": "text",
    "id": "xpAuMVCwfWs8"
   },
   "source": [
    "# Recurrent Neural Network"
   ]
  },
  {
   "cell_type": "markdown",
   "metadata": {
    "colab_type": "text",
    "id": "nxJfRe4bfYVA"
   },
   "source": [
    "## Part 1 - Data Preprocessing"
   ]
  },
  {
   "cell_type": "markdown",
   "metadata": {
    "colab_type": "text",
    "id": "ir9zwETrfbrp"
   },
   "source": [
    "### Importing the libraries"
   ]
  },
  {
   "cell_type": "code",
   "execution_count": 1,
   "metadata": {},
   "outputs": [],
   "source": [
    "import numpy as np \n",
    "import matplotlib.pyplot as plt\n",
    "import pandas as pd"
   ]
  },
  {
   "cell_type": "markdown",
   "metadata": {
    "colab_type": "text",
    "id": "nQ47JAxrgmaL"
   },
   "source": [
    "### Importing the training set"
   ]
  },
  {
   "cell_type": "code",
   "execution_count": 2,
   "metadata": {},
   "outputs": [],
   "source": [
    "dataset_train = pd.read_csv('TCS_Stock_Price_Train-Copy1.csv')\n",
    "training_set = dataset_train.iloc[:,1:2].values"
   ]
  },
  {
   "cell_type": "markdown",
   "metadata": {},
   "source": [
    "### Taking care of missing data"
   ]
  },
  {
   "cell_type": "code",
   "execution_count": 3,
   "metadata": {},
   "outputs": [],
   "source": [
    "#dataset_train.dropna(axis = 0)"
   ]
  },
  {
   "cell_type": "markdown",
   "metadata": {
    "colab_type": "text",
    "id": "HT8_2UJegtG5"
   },
   "source": [
    "### Feature Scaling"
   ]
  },
  {
   "cell_type": "code",
   "execution_count": 4,
   "metadata": {},
   "outputs": [],
   "source": [
    "from sklearn.preprocessing import MinMaxScaler\n",
    "sc = MinMaxScaler(feature_range=(0,1))\n",
    "training_set_scaled = sc.fit_transform(training_set)"
   ]
  },
  {
   "cell_type": "markdown",
   "metadata": {
    "colab_type": "text",
    "id": "JyYgYocqhNUg"
   },
   "source": [
    "### Creating a data structure with 180 timesteps and 1 output"
   ]
  },
  {
   "cell_type": "code",
   "execution_count": 5,
   "metadata": {},
   "outputs": [],
   "source": [
    "X_train = []\n",
    "y_train = []\n",
    "for i in range(120, 4721):\n",
    "    X_train.append(training_set_scaled[i-120:i, 0])\n",
    "    y_train.append(training_set_scaled[i, 0])\n",
    "X_train, y_train = np.array(X_train), np.array(y_train)   "
   ]
  },
  {
   "cell_type": "markdown",
   "metadata": {
    "colab_type": "text",
    "id": "D8yaN7Zvi95l"
   },
   "source": [
    "### Reshaping"
   ]
  },
  {
   "cell_type": "code",
   "execution_count": 6,
   "metadata": {},
   "outputs": [],
   "source": [
    "X_train = np.reshape(X_train, (X_train.shape[0], X_train.shape[1], 1))"
   ]
  },
  {
   "cell_type": "code",
   "execution_count": 7,
   "metadata": {
    "scrolled": true
   },
   "outputs": [
    {
     "data": {
      "text/plain": [
       "(4601, 120, 1)"
      ]
     },
     "execution_count": 7,
     "metadata": {},
     "output_type": "execute_result"
    }
   ],
   "source": [
    "X_train.shape"
   ]
  },
  {
   "cell_type": "markdown",
   "metadata": {
    "colab_type": "text",
    "id": "ZRRSOJeVjEWV"
   },
   "source": [
    "## Part 2 - Building and Training the RNN"
   ]
  },
  {
   "cell_type": "markdown",
   "metadata": {
    "colab_type": "text",
    "id": "k4XV88JMjHXG"
   },
   "source": [
    "### Importing the Keras libraries and packages"
   ]
  },
  {
   "cell_type": "code",
   "execution_count": 8,
   "metadata": {},
   "outputs": [],
   "source": [
    "from keras.models import Sequential\n",
    "from keras.layers import Dense\n",
    "from keras.layers import LSTM\n",
    "from keras.layers import Dropout"
   ]
  },
  {
   "cell_type": "markdown",
   "metadata": {
    "colab_type": "text",
    "id": "FEIE-1s9jNzC"
   },
   "source": [
    "### Initialising the RNN"
   ]
  },
  {
   "cell_type": "code",
   "execution_count": 9,
   "metadata": {},
   "outputs": [],
   "source": [
    "rnn = Sequential()"
   ]
  },
  {
   "cell_type": "markdown",
   "metadata": {
    "colab_type": "text",
    "id": "62eg1OPGjT8z"
   },
   "source": [
    "### Adding the first LSTM layer and some Dropout regularisation"
   ]
  },
  {
   "cell_type": "code",
   "execution_count": 10,
   "metadata": {},
   "outputs": [],
   "source": [
    "rnn.add(LSTM(units = 75 , return_sequences = True, input_shape = (X_train.shape[1], 1) ))\n",
    "rnn.add(Dropout(0.2))"
   ]
  },
  {
   "cell_type": "markdown",
   "metadata": {
    "colab_type": "text",
    "id": "3XBIYLyOjlMx"
   },
   "source": [
    "### Adding a second LSTM layer and some Dropout regularisation"
   ]
  },
  {
   "cell_type": "code",
   "execution_count": 11,
   "metadata": {},
   "outputs": [],
   "source": [
    "rnn.add(LSTM(units = 75 , return_sequences = True ))\n",
    "rnn.add(Dropout(0.2))"
   ]
  },
  {
   "cell_type": "markdown",
   "metadata": {
    "colab_type": "text",
    "id": "Ey3fHVnGj1cu"
   },
   "source": [
    "### Adding a third LSTM layer and some Dropout regularisation"
   ]
  },
  {
   "cell_type": "code",
   "execution_count": 12,
   "metadata": {},
   "outputs": [],
   "source": [
    "rnn.add(LSTM(units = 75 , return_sequences = True ))\n",
    "rnn.add(Dropout(0.2))"
   ]
  },
  {
   "cell_type": "markdown",
   "metadata": {
    "colab_type": "text",
    "id": "SYTrtfTmj933"
   },
   "source": [
    "### Adding a fourth LSTM layer and some Dropout regularisation"
   ]
  },
  {
   "cell_type": "code",
   "execution_count": 13,
   "metadata": {},
   "outputs": [],
   "source": [
    "rnn.add(LSTM(units = 75 , return_sequences = True ))\n",
    "rnn.add(Dropout(0.2))"
   ]
  },
  {
   "cell_type": "markdown",
   "metadata": {},
   "source": [
    "### Adding a fifth LSTM layer and some Dropout regularisation"
   ]
  },
  {
   "cell_type": "code",
   "execution_count": 14,
   "metadata": {},
   "outputs": [],
   "source": [
    "rnn.add(LSTM(units = 75 , return_sequences = True ))\n",
    "rnn.add(Dropout(0.2))"
   ]
  },
  {
   "cell_type": "markdown",
   "metadata": {},
   "source": [
    "### Adding a sixth LSTM layer and some Dropout regularisation"
   ]
  },
  {
   "cell_type": "code",
   "execution_count": 15,
   "metadata": {},
   "outputs": [],
   "source": [
    "rnn.add(LSTM(units = 75))\n",
    "rnn.add(Dropout(0.2))"
   ]
  },
  {
   "cell_type": "markdown",
   "metadata": {
    "colab_type": "text",
    "id": "9ABI6rOIkHhk"
   },
   "source": [
    "### Adding the output layer"
   ]
  },
  {
   "cell_type": "code",
   "execution_count": 16,
   "metadata": {},
   "outputs": [],
   "source": [
    "rnn.add(Dense(units=1))"
   ]
  },
  {
   "cell_type": "markdown",
   "metadata": {
    "colab_type": "text",
    "id": "zLx4K7uUkPSh"
   },
   "source": [
    "### Compiling the RNN"
   ]
  },
  {
   "cell_type": "code",
   "execution_count": 17,
   "metadata": {},
   "outputs": [],
   "source": [
    "rnn.compile(optimizer = 'adam', loss= 'mean_squared_error')"
   ]
  },
  {
   "cell_type": "markdown",
   "metadata": {
    "colab_type": "text",
    "id": "-mPhwKGkkebi"
   },
   "source": [
    "### Fitting the RNN to the Training set"
   ]
  },
  {
   "cell_type": "code",
   "execution_count": 18,
   "metadata": {
    "scrolled": true
   },
   "outputs": [
    {
     "name": "stdout",
     "output_type": "stream",
     "text": [
      "Epoch 1/100\n",
      "144/144 [==============================] - 63s 374ms/step - loss: 0.0077\n",
      "Epoch 2/100\n",
      "144/144 [==============================] - 56s 390ms/step - loss: 0.0015\n",
      "Epoch 3/100\n",
      "144/144 [==============================] - 61s 427ms/step - loss: 0.0014\n",
      "Epoch 4/100\n",
      "144/144 [==============================] - 67s 469ms/step - loss: 0.0014\n",
      "Epoch 5/100\n",
      "144/144 [==============================] - 71s 491ms/step - loss: 0.0012\n",
      "Epoch 6/100\n",
      "144/144 [==============================] - 74s 510ms/step - loss: 0.0012\n",
      "Epoch 7/100\n",
      "144/144 [==============================] - 74s 511ms/step - loss: 0.0012\n",
      "Epoch 8/100\n",
      "144/144 [==============================] - 74s 512ms/step - loss: 0.0011\n",
      "Epoch 9/100\n",
      "144/144 [==============================] - 74s 513ms/step - loss: 9.6812e-04\n",
      "Epoch 10/100\n",
      "144/144 [==============================] - 68s 475ms/step - loss: 9.2997e-04\n",
      "Epoch 11/100\n",
      "144/144 [==============================] - 68s 469ms/step - loss: 0.0010\n",
      "Epoch 12/100\n",
      "144/144 [==============================] - 68s 471ms/step - loss: 0.0010\n",
      "Epoch 13/100\n",
      "144/144 [==============================] - 68s 472ms/step - loss: 0.0010\n",
      "Epoch 14/100\n",
      "144/144 [==============================] - 68s 473ms/step - loss: 9.8702e-04\n",
      "Epoch 15/100\n",
      "144/144 [==============================] - 69s 477ms/step - loss: 9.6164e-04\n",
      "Epoch 16/100\n",
      "144/144 [==============================] - 69s 481ms/step - loss: 9.9715e-04\n",
      "Epoch 17/100\n",
      "144/144 [==============================] - 70s 485ms/step - loss: 8.8820e-04\n",
      "Epoch 18/100\n",
      "144/144 [==============================] - 68s 473ms/step - loss: 7.4859e-04\n",
      "Epoch 19/100\n",
      "144/144 [==============================] - 68s 473ms/step - loss: 8.8856e-04\n",
      "Epoch 20/100\n",
      "144/144 [==============================] - 76s 524ms/step - loss: 8.9501e-04\n",
      "Epoch 21/100\n",
      "144/144 [==============================] - 75s 519ms/step - loss: 8.6860e-04\n",
      "Epoch 22/100\n",
      "144/144 [==============================] - 72s 498ms/step - loss: 8.9324e-04\n",
      "Epoch 23/100\n",
      "144/144 [==============================] - 63s 440ms/step - loss: 7.4863e-04\n",
      "Epoch 24/100\n",
      "144/144 [==============================] - 60s 418ms/step - loss: 6.6027e-04\n",
      "Epoch 25/100\n",
      "144/144 [==============================] - 58s 398ms/step - loss: 6.6028e-04\n",
      "Epoch 26/100\n",
      "144/144 [==============================] - 58s 405ms/step - loss: 6.6601e-04\n",
      "Epoch 27/100\n",
      "144/144 [==============================] - 57s 399ms/step - loss: 7.6381e-04\n",
      "Epoch 28/100\n",
      "144/144 [==============================] - 61s 425ms/step - loss: 7.1332e-04\n",
      "Epoch 29/100\n",
      "144/144 [==============================] - 61s 423ms/step - loss: 6.1500e-04\n",
      "Epoch 30/100\n",
      "144/144 [==============================] - 59s 410ms/step - loss: 6.1749e-04\n",
      "Epoch 31/100\n",
      "144/144 [==============================] - 56s 388ms/step - loss: 6.2836e-04\n",
      "Epoch 32/100\n",
      "144/144 [==============================] - 64s 447ms/step - loss: 5.7332e-04\n",
      "Epoch 33/100\n",
      "144/144 [==============================] - 61s 422ms/step - loss: 6.1171e-04\n",
      "Epoch 34/100\n",
      "144/144 [==============================] - 62s 434ms/step - loss: 6.6029e-04\n",
      "Epoch 35/100\n",
      "144/144 [==============================] - 61s 427ms/step - loss: 5.8332e-04\n",
      "Epoch 36/100\n",
      "144/144 [==============================] - 61s 425ms/step - loss: 5.3594e-04\n",
      "Epoch 37/100\n",
      "144/144 [==============================] - 69s 479ms/step - loss: 5.4859e-04\n",
      "Epoch 38/100\n",
      "144/144 [==============================] - 85s 590ms/step - loss: 5.5765e-04\n",
      "Epoch 39/100\n",
      "144/144 [==============================] - 82s 571ms/step - loss: 5.8181e-04\n",
      "Epoch 40/100\n",
      "144/144 [==============================] - 83s 576ms/step - loss: 6.0486e-04\n",
      "Epoch 41/100\n",
      "144/144 [==============================] - 91s 633ms/step - loss: 6.0420e-04\n",
      "Epoch 42/100\n",
      "144/144 [==============================] - 91s 628ms/step - loss: 6.0608e-04\n",
      "Epoch 43/100\n",
      "144/144 [==============================] - 86s 596ms/step - loss: 5.1953e-04\n",
      "Epoch 44/100\n",
      "144/144 [==============================] - 83s 579ms/step - loss: 5.4640e-04\n",
      "Epoch 45/100\n",
      "144/144 [==============================] - 86s 601ms/step - loss: 5.4983e-04\n",
      "Epoch 46/100\n",
      "144/144 [==============================] - 81s 560ms/step - loss: 4.9204e-04\n",
      "Epoch 47/100\n",
      "144/144 [==============================] - 83s 580ms/step - loss: 5.2185e-04\n",
      "Epoch 48/100\n",
      "144/144 [==============================] - 83s 577ms/step - loss: 7.6685e-04\n",
      "Epoch 49/100\n",
      "144/144 [==============================] - 82s 571ms/step - loss: 5.4610e-04\n",
      "Epoch 50/100\n",
      "144/144 [==============================] - 88s 612ms/step - loss: 4.9782e-04\n",
      "Epoch 51/100\n",
      "144/144 [==============================] - 83s 575ms/step - loss: 5.2685e-04\n",
      "Epoch 52/100\n",
      "144/144 [==============================] - 74s 512ms/step - loss: 5.0919e-04\n",
      "Epoch 53/100\n",
      "144/144 [==============================] - 82s 572ms/step - loss: 4.6591e-04\n",
      "Epoch 54/100\n",
      "144/144 [==============================] - 73s 510ms/step - loss: 4.6737e-04\n",
      "Epoch 55/100\n",
      "144/144 [==============================] - 78s 544ms/step - loss: 4.7349e-04\n",
      "Epoch 56/100\n",
      "144/144 [==============================] - 83s 574ms/step - loss: 4.7825e-04\n",
      "Epoch 57/100\n",
      "144/144 [==============================] - 89s 621ms/step - loss: 5.3395e-04\n",
      "Epoch 58/100\n",
      "144/144 [==============================] - 76s 531ms/step - loss: 4.8937e-04\n",
      "Epoch 59/100\n",
      "144/144 [==============================] - 83s 575ms/step - loss: 4.9900e-04\n",
      "Epoch 60/100\n",
      "144/144 [==============================] - 73s 509ms/step - loss: 4.7202e-04\n",
      "Epoch 61/100\n",
      "144/144 [==============================] - 74s 512ms/step - loss: 4.7267e-04\n",
      "Epoch 62/100\n",
      "144/144 [==============================] - 77s 533ms/step - loss: 5.0307e-04\n",
      "Epoch 63/100\n",
      "144/144 [==============================] - 73s 509ms/step - loss: 4.7443e-04\n",
      "Epoch 64/100\n",
      "144/144 [==============================] - 77s 534ms/step - loss: 4.5032e-04\n",
      "Epoch 65/100\n",
      "144/144 [==============================] - 76s 530ms/step - loss: 4.1117e-04\n",
      "Epoch 66/100\n",
      "144/144 [==============================] - 76s 528ms/step - loss: 4.5532e-04\n",
      "Epoch 67/100\n",
      "144/144 [==============================] - 84s 585ms/step - loss: 5.7272e-04\n",
      "Epoch 68/100\n",
      "144/144 [==============================] - 85s 589ms/step - loss: 4.6046e-04\n",
      "Epoch 69/100\n",
      "144/144 [==============================] - 73s 503ms/step - loss: 3.9579e-04\n",
      "Epoch 70/100\n",
      "144/144 [==============================] - 75s 521ms/step - loss: 4.7456e-04\n",
      "Epoch 71/100\n",
      "144/144 [==============================] - 73s 505ms/step - loss: 4.9988e-04\n",
      "Epoch 72/100\n",
      "144/144 [==============================] - 74s 513ms/step - loss: 4.3159e-04\n",
      "Epoch 73/100\n",
      "144/144 [==============================] - 75s 525ms/step - loss: 4.4303e-04\n",
      "Epoch 74/100\n",
      "144/144 [==============================] - 74s 514ms/step - loss: 4.7135e-04\n",
      "Epoch 75/100\n",
      "144/144 [==============================] - 74s 512ms/step - loss: 4.6496e-04\n",
      "Epoch 76/100\n",
      "144/144 [==============================] - 78s 546ms/step - loss: 4.5014e-04\n",
      "Epoch 77/100\n",
      "144/144 [==============================] - 74s 517ms/step - loss: 4.6403e-04\n",
      "Epoch 78/100\n",
      "144/144 [==============================] - 76s 526ms/step - loss: 4.9538e-04\n",
      "Epoch 79/100\n",
      "144/144 [==============================] - 76s 528ms/step - loss: 4.3526e-04\n",
      "Epoch 80/100\n",
      "144/144 [==============================] - 77s 532ms/step - loss: 4.5015e-04\n",
      "Epoch 81/100\n",
      "144/144 [==============================] - 76s 531ms/step - loss: 4.2268e-04\n",
      "Epoch 82/100\n",
      "144/144 [==============================] - 77s 532ms/step - loss: 4.2798e-04\n",
      "Epoch 83/100\n",
      "144/144 [==============================] - 77s 538ms/step - loss: 4.2030e-04\n",
      "Epoch 84/100\n",
      "144/144 [==============================] - 78s 540ms/step - loss: 5.1138e-04\n",
      "Epoch 85/100\n",
      "144/144 [==============================] - 76s 525ms/step - loss: 3.8801e-04\n",
      "Epoch 86/100\n",
      "144/144 [==============================] - 82s 568ms/step - loss: 3.8738e-04\n",
      "Epoch 87/100\n",
      "144/144 [==============================] - 74s 515ms/step - loss: 4.1135e-04\n",
      "Epoch 88/100\n",
      "144/144 [==============================] - 74s 513ms/step - loss: 4.5988e-04\n",
      "Epoch 89/100\n",
      "144/144 [==============================] - 82s 571ms/step - loss: 4.1902e-04\n",
      "Epoch 90/100\n",
      "144/144 [==============================] - 93s 645ms/step - loss: 4.5095e-04\n",
      "Epoch 91/100\n",
      "144/144 [==============================] - 97s 674ms/step - loss: 4.3200e-04\n",
      "Epoch 92/100\n"
     ]
    },
    {
     "name": "stdout",
     "output_type": "stream",
     "text": [
      "144/144 [==============================] - 94s 650ms/step - loss: 4.0910e-04\n",
      "Epoch 93/100\n",
      "144/144 [==============================] - 97s 675ms/step - loss: 3.9524e-04\n",
      "Epoch 94/100\n",
      "144/144 [==============================] - 97s 671ms/step - loss: 4.4382e-04\n",
      "Epoch 95/100\n",
      "144/144 [==============================] - 96s 668ms/step - loss: 4.2411e-04\n",
      "Epoch 96/100\n",
      "144/144 [==============================] - 96s 664ms/step - loss: 4.0754e-04\n",
      "Epoch 97/100\n",
      "144/144 [==============================] - 95s 661ms/step - loss: 4.2414e-04\n",
      "Epoch 98/100\n",
      "144/144 [==============================] - 95s 656ms/step - loss: 4.4143e-04\n",
      "Epoch 99/100\n",
      "144/144 [==============================] - 96s 667ms/step - loss: 4.3113e-04\n",
      "Epoch 100/100\n",
      "144/144 [==============================] - 94s 653ms/step - loss: 4.1819e-04\n"
     ]
    },
    {
     "data": {
      "text/plain": [
       "<keras.callbacks.History at 0x27d54178d00>"
      ]
     },
     "execution_count": 18,
     "metadata": {},
     "output_type": "execute_result"
    }
   ],
   "source": [
    "rnn.fit(X_train, y_train, epochs= 100 , batch_size = 32 )"
   ]
  },
  {
   "cell_type": "markdown",
   "metadata": {
    "colab_type": "text",
    "id": "4hRau_lIkrE8"
   },
   "source": [
    "## Part 3 - Making the predictions and visualising the results"
   ]
  },
  {
   "cell_type": "markdown",
   "metadata": {
    "colab_type": "text",
    "id": "SgJO6qEDksxD"
   },
   "source": [
    "### Getting the real stock price "
   ]
  },
  {
   "cell_type": "code",
   "execution_count": 21,
   "metadata": {},
   "outputs": [],
   "source": [
    "dataset_test = pd.read_csv('TCS_Stock_Price_Test.csv')\n",
    "real_stock_price = dataset_test.iloc[:,1:2].values"
   ]
  },
  {
   "cell_type": "markdown",
   "metadata": {
    "colab_type": "text",
    "id": "GrvrLblxkz42"
   },
   "source": [
    "### Getting the predicted stock price "
   ]
  },
  {
   "cell_type": "code",
   "execution_count": 23,
   "metadata": {},
   "outputs": [],
   "source": [
    "dataset_total = pd.concat((dataset_train['Open'], dataset_test['Open']), axis = 0)\n",
    "inputs = dataset_total[len(dataset_total) - len(dataset_test) - 120:].values\n",
    "inputs = inputs.reshape(-1,1)\n",
    "inputs = sc.transform(inputs)\n",
    "X_test = []\n",
    "for i in range(120, 337):\n",
    "    X_test.append(inputs[i-120:i, 0])\n",
    "X_test = np.array(X_test)\n",
    "X_test = np.reshape(X_test, (X_test.shape[0], X_test.shape[1], 1))\n",
    "predicted_stock_price = rnn.predict(X_test)\n",
    "predicted_stock_price = sc.inverse_transform(predicted_stock_price)                                              "
   ]
  },
  {
   "cell_type": "markdown",
   "metadata": {
    "colab_type": "text",
    "id": "iFTNs3YHk6FQ"
   },
   "source": [
    "### Visualising the results"
   ]
  },
  {
   "cell_type": "code",
   "execution_count": 24,
   "metadata": {},
   "outputs": [
    {
     "data": {
      "image/png": "[encoded data removed]",
      "text/plain": [
       "<Figure size 432x288 with 1 Axes>"
      ]
     },
     "metadata": {
      "needs_background": "light"
     },
     "output_type": "display_data"
    }
   ],
   "source": [
    "plt.plot(real_stock_price, color = 'red', label = 'Real TCS Stock Price')\n",
    "plt.plot(predicted_stock_price, color = 'blue', label = 'Predicted TCS Stock Price')\n",
    "plt.title('TCS Stock Price Prediction')\n",
    "plt.xlabel('Time')\n",
    "plt.ylabel('TCS Stock Price')\n",
    "plt.legend()\n",
    "plt.show()"
   ]
  },
  {
   "cell_type": "markdown",
   "metadata": {},
   "source": [
    "## Improving the RNN\n",
    "\n",
    "Hi guys,\n",
    "\n",
    "here are different ways to improve the RNN model:\n",
    "\n",
    "\n",
    "1. Getting more training data: we trained our model on the past 5 years of the Google Stock Price but it would be even better to train it on the past 10 years.\n",
    "\n",
    "2. Increasing the number of timesteps: the model remembered the stock prices from the 60 previous financial days to predict the stock price of the next day. That’s because we chose a number of 60 timesteps (3 months). You could try to increase the number of timesteps, by choosing for example 120 timesteps (6 months).\n",
    "\n",
    "3. Adding some other indicators: if you have the financial instinct that the stock price of some other companies might be correlated to the one of Google, you could add this other stock price as a new indicator in the training data.\n",
    "\n",
    "4. Adding more LSTM layers: we built a RNN with four LSTM layers but you could try with even more.\n",
    "\n",
    "5. Adding more neurones in the LSTM layers: we highlighted the fact that we needed a high number of neurones in the LSTM layers to respond better to the complexity of the problem and we chose to include 50 neurones in each of our 4 LSTM layers. You could try an architecture with even more neurones in each of the 4 (or more) LSTM layers.\n",
    "\n",
    "Enjoy Deep Learning!"
   ]
  }
 ],
 "metadata": {
  "colab": {
   "collapsed_sections": [],
   "name": "recurrent_neural_network.ipynb",
   "provenance": []
  },
  "kernelspec": {
   "display_name": "Python 3",
   "language": "python",
   "name": "python3"
  },
  "language_info": {
   "codemirror_mode": {
    "name": "ipython",
    "version": 3
   },
   "file_extension": ".py",
   "mimetype": "text/x-python",
   "name": "python",
   "nbconvert_exporter": "python",
   "pygments_lexer": "ipython3",
   "version": "3.8.8"
  }
 },
 "nbformat": 4,
 "nbformat_minor": 1
}
