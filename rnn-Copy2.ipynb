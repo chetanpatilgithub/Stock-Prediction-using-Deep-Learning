{
 "cells": [
  {
   "cell_type": "markdown",
   "metadata": {
    "colab_type": "text",
    "id": "xpAuMVCwfWs8"
   },
   "source": [
    "# Recurrent Neural Network"
   ]
  },
  {
   "cell_type": "markdown",
   "metadata": {
    "colab_type": "text",
    "id": "nxJfRe4bfYVA"
   },
   "source": [
    "## Part 1 - Data Preprocessing"
   ]
  },
  {
   "cell_type": "markdown",
   "metadata": {
    "colab_type": "text",
    "id": "ir9zwETrfbrp"
   },
   "source": [
    "### Importing the libraries"
   ]
  },
  {
   "cell_type": "code",
   "execution_count": 1,
   "metadata": {},
   "outputs": [],
   "source": [
    "import numpy as np \n",
    "import matplotlib.pyplot as plt\n",
    "import pandas as pd"
   ]
  },
  {
   "cell_type": "markdown",
   "metadata": {
    "colab_type": "text",
    "id": "nQ47JAxrgmaL"
   },
   "source": [
    "### Importing the training set"
   ]
  },
  {
   "cell_type": "code",
   "execution_count": 7,
   "metadata": {},
   "outputs": [],
   "source": [
    "dataset_train = pd.read_csv('AirPassengers.csv')\n",
    "training_set = dataset_train.iloc[:,1:2].values"
   ]
  },
  {
   "cell_type": "markdown",
   "metadata": {
    "colab_type": "text",
    "id": "HT8_2UJegtG5"
   },
   "source": [
    "### Feature Scaling"
   ]
  },
  {
   "cell_type": "code",
   "execution_count": 8,
   "metadata": {},
   "outputs": [],
   "source": [
    "from sklearn.preprocessing import MinMaxScaler\n",
    "sc = MinMaxScaler(feature_range=(0,1))\n",
    "training_set_scaled = sc.fit_transform(training_set)"
   ]
  },
  {
   "cell_type": "markdown",
   "metadata": {
    "colab_type": "text",
    "id": "JyYgYocqhNUg"
   },
   "source": [
    "### Creating a data structure with 60 timesteps and 1 output"
   ]
  },
  {
   "cell_type": "code",
   "execution_count": 12,
   "metadata": {},
   "outputs": [],
   "source": [
    "X_train = []\n",
    "y_train = []\n",
    "for i in range(60, 144):\n",
    "    X_train.append(training_set_scaled[i-60:i, 0])\n",
    "    y_train.append(training_set_scaled[i, 0])\n",
    "X_train, y_train = np.array(X_train), np.array(y_train)   "
   ]
  },
  {
   "cell_type": "markdown",
   "metadata": {
    "colab_type": "text",
    "id": "D8yaN7Zvi95l"
   },
   "source": [
    "### Reshaping"
   ]
  },
  {
   "cell_type": "code",
   "execution_count": 13,
   "metadata": {},
   "outputs": [],
   "source": [
    "X_train = np.reshape(X_train, (X_train.shape[0], X_train.shape[1], 1))"
   ]
  },
  {
   "cell_type": "code",
   "execution_count": 14,
   "metadata": {
    "scrolled": true
   },
   "outputs": [
    {
     "data": {
      "text/plain": [
       "(84, 60, 1)"
      ]
     },
     "execution_count": 14,
     "metadata": {},
     "output_type": "execute_result"
    }
   ],
   "source": [
    "X_train.shape"
   ]
  },
  {
   "cell_type": "markdown",
   "metadata": {
    "colab_type": "text",
    "id": "ZRRSOJeVjEWV"
   },
   "source": [
    "## Part 2 - Building and Training the RNN"
   ]
  },
  {
   "cell_type": "markdown",
   "metadata": {
    "colab_type": "text",
    "id": "k4XV88JMjHXG"
   },
   "source": [
    "### Importing the Keras libraries and packages"
   ]
  },
  {
   "cell_type": "code",
   "execution_count": 9,
   "metadata": {},
   "outputs": [],
   "source": [
    "from keras.models import Sequential\n",
    "from keras.layers import Dense\n",
    "from keras.layers import LSTM\n",
    "from keras.layers import Dropout"
   ]
  },
  {
   "cell_type": "markdown",
   "metadata": {
    "colab_type": "text",
    "id": "FEIE-1s9jNzC"
   },
   "source": [
    "### Initialising the RNN"
   ]
  },
  {
   "cell_type": "code",
   "execution_count": 10,
   "metadata": {},
   "outputs": [],
   "source": [
    "rnn = Sequential()"
   ]
  },
  {
   "cell_type": "markdown",
   "metadata": {
    "colab_type": "text",
    "id": "62eg1OPGjT8z"
   },
   "source": [
    "### Adding the first LSTM layer and some Dropout regularisation"
   ]
  },
  {
   "cell_type": "code",
   "execution_count": 11,
   "metadata": {},
   "outputs": [],
   "source": [
    "rnn.add(LSTM(units = 50 , return_sequences = True, input_shape = (X_train.shape[1], 1) ))\n",
    "rnn.add(Dropout(0.2))"
   ]
  },
  {
   "cell_type": "markdown",
   "metadata": {
    "colab_type": "text",
    "id": "3XBIYLyOjlMx"
   },
   "source": [
    "### Adding a second LSTM layer and some Dropout regularisation"
   ]
  },
  {
   "cell_type": "code",
   "execution_count": 12,
   "metadata": {},
   "outputs": [],
   "source": [
    "rnn.add(LSTM(units = 50 , return_sequences = True ))\n",
    "rnn.add(Dropout(0.2))"
   ]
  },
  {
   "cell_type": "markdown",
   "metadata": {
    "colab_type": "text",
    "id": "Ey3fHVnGj1cu"
   },
   "source": [
    "### Adding a third LSTM layer and some Dropout regularisation"
   ]
  },
  {
   "cell_type": "code",
   "execution_count": 13,
   "metadata": {},
   "outputs": [],
   "source": [
    "rnn.add(LSTM(units = 50 , return_sequences = True ))\n",
    "rnn.add(Dropout(0.2))"
   ]
  },
  {
   "cell_type": "markdown",
   "metadata": {
    "colab_type": "text",
    "id": "SYTrtfTmj933"
   },
   "source": [
    "### Adding a fourth LSTM layer and some Dropout regularisation"
   ]
  },
  {
   "cell_type": "code",
   "execution_count": 14,
   "metadata": {},
   "outputs": [],
   "source": [
    "rnn.add(LSTM(units = 50 ))\n",
    "rnn.add(Dropout(0.2))"
   ]
  },
  {
   "cell_type": "markdown",
   "metadata": {
    "colab_type": "text",
    "id": "9ABI6rOIkHhk"
   },
   "source": [
    "### Adding the output layer"
   ]
  },
  {
   "cell_type": "code",
   "execution_count": 15,
   "metadata": {},
   "outputs": [],
   "source": [
    "rnn.add(Dense(units=1))"
   ]
  },
  {
   "cell_type": "markdown",
   "metadata": {
    "colab_type": "text",
    "id": "zLx4K7uUkPSh"
   },
   "source": [
    "### Compiling the RNN"
   ]
  },
  {
   "cell_type": "code",
   "execution_count": 16,
   "metadata": {},
   "outputs": [],
   "source": [
    "rnn.compile(optimizer = 'adam', loss= 'mean_squared_error')"
   ]
  },
  {
   "cell_type": "markdown",
   "metadata": {
    "colab_type": "text",
    "id": "-mPhwKGkkebi"
   },
   "source": [
    "### Fitting the RNN to the Training set"
   ]
  },
  {
   "cell_type": "code",
   "execution_count": 17,
   "metadata": {
    "scrolled": true
   },
   "outputs": [
    {
     "name": "stdout",
     "output_type": "stream",
     "text": [
      "Epoch 1/100\n",
      "146/146 [==============================] - 36s 178ms/step - loss: 0.0059\n",
      "Epoch 2/100\n",
      "146/146 [==============================] - 26s 176ms/step - loss: 0.0016\n",
      "Epoch 3/100\n",
      "146/146 [==============================] - 26s 176ms/step - loss: 0.0014\n",
      "Epoch 4/100\n",
      "146/146 [==============================] - 25s 174ms/step - loss: 0.0013\n",
      "Epoch 5/100\n",
      "146/146 [==============================] - 25s 172ms/step - loss: 0.0013\n",
      "Epoch 6/100\n",
      "146/146 [==============================] - 25s 174ms/step - loss: 0.0013\n",
      "Epoch 7/100\n",
      "146/146 [==============================] - 25s 172ms/step - loss: 0.0012\n",
      "Epoch 8/100\n",
      "146/146 [==============================] - 25s 172ms/step - loss: 0.0010\n",
      "Epoch 9/100\n",
      "146/146 [==============================] - 25s 172ms/step - loss: 9.8556e-04\n",
      "Epoch 10/100\n",
      "146/146 [==============================] - 25s 173ms/step - loss: 9.0808e-04\n",
      "Epoch 11/100\n",
      "146/146 [==============================] - 25s 173ms/step - loss: 9.2661e-04\n",
      "Epoch 12/100\n",
      "146/146 [==============================] - 25s 172ms/step - loss: 8.2446e-04\n",
      "Epoch 13/100\n",
      "146/146 [==============================] - 25s 173ms/step - loss: 9.2418e-04\n",
      "Epoch 14/100\n",
      "146/146 [==============================] - 25s 173ms/step - loss: 8.4711e-04\n",
      "Epoch 15/100\n",
      "146/146 [==============================] - 25s 173ms/step - loss: 9.0203e-04\n",
      "Epoch 16/100\n",
      "146/146 [==============================] - 25s 172ms/step - loss: 9.3093e-04\n",
      "Epoch 17/100\n",
      "146/146 [==============================] - 25s 173ms/step - loss: 8.3952e-04\n",
      "Epoch 18/100\n",
      "146/146 [==============================] - 25s 173ms/step - loss: 7.4000e-04\n",
      "Epoch 19/100\n",
      "146/146 [==============================] - 25s 173ms/step - loss: 7.5825e-04\n",
      "Epoch 20/100\n",
      "146/146 [==============================] - 25s 173ms/step - loss: 7.1389e-04\n",
      "Epoch 21/100\n",
      "146/146 [==============================] - 26s 175ms/step - loss: 6.9329e-04\n",
      "Epoch 22/100\n",
      "146/146 [==============================] - 25s 174ms/step - loss: 6.8424e-04\n",
      "Epoch 23/100\n",
      "146/146 [==============================] - 25s 174ms/step - loss: 7.0690e-04\n",
      "Epoch 24/100\n",
      "146/146 [==============================] - 25s 174ms/step - loss: 7.7196e-04\n",
      "Epoch 25/100\n",
      "146/146 [==============================] - 25s 174ms/step - loss: 7.1175e-04\n",
      "Epoch 26/100\n",
      "146/146 [==============================] - 25s 174ms/step - loss: 6.1716e-04\n",
      "Epoch 27/100\n",
      "146/146 [==============================] - 26s 175ms/step - loss: 6.4197e-04\n",
      "Epoch 28/100\n",
      "146/146 [==============================] - 25s 173ms/step - loss: 7.4183e-04\n",
      "Epoch 29/100\n",
      "146/146 [==============================] - 25s 174ms/step - loss: 7.0800e-04\n",
      "Epoch 30/100\n",
      "146/146 [==============================] - 25s 174ms/step - loss: 6.6093e-04\n",
      "Epoch 31/100\n",
      "146/146 [==============================] - 25s 173ms/step - loss: 5.8079e-04\n",
      "Epoch 32/100\n",
      "146/146 [==============================] - 25s 174ms/step - loss: 6.2204e-04\n",
      "Epoch 33/100\n",
      "146/146 [==============================] - 25s 173ms/step - loss: 6.3446e-04\n",
      "Epoch 34/100\n",
      "146/146 [==============================] - 25s 174ms/step - loss: 6.2644e-04\n",
      "Epoch 35/100\n",
      "146/146 [==============================] - 25s 174ms/step - loss: 8.1103e-04\n",
      "Epoch 36/100\n",
      "146/146 [==============================] - 25s 174ms/step - loss: 6.6336e-04\n",
      "Epoch 37/100\n",
      "146/146 [==============================] - 25s 174ms/step - loss: 6.1168e-04\n",
      "Epoch 38/100\n",
      "146/146 [==============================] - 26s 175ms/step - loss: 5.5963e-04\n",
      "Epoch 39/100\n",
      "146/146 [==============================] - 25s 174ms/step - loss: 6.2372e-04\n",
      "Epoch 40/100\n",
      "146/146 [==============================] - 25s 174ms/step - loss: 5.8429e-04\n",
      "Epoch 41/100\n",
      "146/146 [==============================] - 25s 174ms/step - loss: 6.4145e-04\n",
      "Epoch 42/100\n",
      "146/146 [==============================] - 25s 174ms/step - loss: 6.6176e-04\n",
      "Epoch 43/100\n",
      "146/146 [==============================] - 26s 175ms/step - loss: 5.6426e-04\n",
      "Epoch 44/100\n",
      "146/146 [==============================] - 25s 174ms/step - loss: 6.0366e-04\n",
      "Epoch 45/100\n",
      "146/146 [==============================] - 25s 174ms/step - loss: 5.6815e-04\n",
      "Epoch 46/100\n",
      "146/146 [==============================] - 25s 173ms/step - loss: 6.7340e-04\n",
      "Epoch 47/100\n",
      "146/146 [==============================] - 25s 174ms/step - loss: 6.5136e-04\n",
      "Epoch 48/100\n",
      "146/146 [==============================] - 25s 174ms/step - loss: 5.8303e-04\n",
      "Epoch 49/100\n",
      "146/146 [==============================] - 26s 176ms/step - loss: 6.8433e-04\n",
      "Epoch 50/100\n",
      "146/146 [==============================] - 26s 176ms/step - loss: 5.5063e-04\n",
      "Epoch 51/100\n",
      "146/146 [==============================] - 26s 176ms/step - loss: 5.8330e-04\n",
      "Epoch 52/100\n",
      "146/146 [==============================] - 26s 176ms/step - loss: 6.3760e-04\n",
      "Epoch 53/100\n",
      "146/146 [==============================] - 26s 176ms/step - loss: 5.5293e-04\n",
      "Epoch 54/100\n",
      "146/146 [==============================] - 26s 177ms/step - loss: 5.5721e-04\n",
      "Epoch 55/100\n",
      "146/146 [==============================] - 26s 176ms/step - loss: 6.7731e-04\n",
      "Epoch 56/100\n",
      "146/146 [==============================] - 26s 178ms/step - loss: 6.0527e-04\n",
      "Epoch 57/100\n",
      "146/146 [==============================] - 26s 175ms/step - loss: 5.7802e-04\n",
      "Epoch 58/100\n",
      "146/146 [==============================] - 25s 174ms/step - loss: 5.2289e-04\n",
      "Epoch 59/100\n",
      "146/146 [==============================] - 26s 176ms/step - loss: 6.1655e-04\n",
      "Epoch 60/100\n",
      "146/146 [==============================] - 26s 175ms/step - loss: 5.8049e-04\n",
      "Epoch 61/100\n",
      "146/146 [==============================] - 25s 174ms/step - loss: 5.7417e-04\n",
      "Epoch 62/100\n",
      "146/146 [==============================] - 26s 176ms/step - loss: 4.9980e-04\n",
      "Epoch 63/100\n",
      "146/146 [==============================] - 26s 175ms/step - loss: 5.6412e-04\n",
      "Epoch 64/100\n",
      "146/146 [==============================] - 26s 175ms/step - loss: 5.6311e-04\n",
      "Epoch 65/100\n",
      "146/146 [==============================] - 25s 174ms/step - loss: 5.5583e-04\n",
      "Epoch 66/100\n",
      "146/146 [==============================] - 25s 175ms/step - loss: 5.4907e-04\n",
      "Epoch 67/100\n",
      "146/146 [==============================] - 25s 175ms/step - loss: 5.8349e-04\n",
      "Epoch 68/100\n",
      "146/146 [==============================] - 26s 176ms/step - loss: 6.1185e-04\n",
      "Epoch 69/100\n",
      "146/146 [==============================] - 26s 175ms/step - loss: 5.4136e-04\n",
      "Epoch 70/100\n",
      "146/146 [==============================] - 25s 174ms/step - loss: 5.3589e-04\n",
      "Epoch 71/100\n",
      "146/146 [==============================] - 26s 176ms/step - loss: 5.0771e-04\n",
      "Epoch 72/100\n",
      "146/146 [==============================] - 26s 175ms/step - loss: 5.8652e-04\n",
      "Epoch 73/100\n",
      "146/146 [==============================] - 26s 175ms/step - loss: 6.1841e-04\n",
      "Epoch 74/100\n",
      "146/146 [==============================] - 26s 175ms/step - loss: 5.5309e-04\n",
      "Epoch 75/100\n",
      "146/146 [==============================] - 25s 174ms/step - loss: 5.5329e-04\n",
      "Epoch 76/100\n",
      "146/146 [==============================] - 25s 175ms/step - loss: 6.3356e-04\n",
      "Epoch 77/100\n",
      "146/146 [==============================] - 25s 174ms/step - loss: 5.6791e-04\n",
      "Epoch 78/100\n",
      "146/146 [==============================] - 25s 175ms/step - loss: 4.9062e-04\n",
      "Epoch 79/100\n",
      "146/146 [==============================] - 26s 175ms/step - loss: 4.7378e-04\n",
      "Epoch 80/100\n",
      "146/146 [==============================] - 26s 175ms/step - loss: 4.9329e-04\n",
      "Epoch 81/100\n",
      "146/146 [==============================] - 26s 175ms/step - loss: 4.8984e-04\n",
      "Epoch 82/100\n",
      "146/146 [==============================] - 25s 175ms/step - loss: 4.9675e-04\n",
      "Epoch 83/100\n",
      "146/146 [==============================] - 25s 174ms/step - loss: 5.1512e-04\n",
      "Epoch 84/100\n",
      "146/146 [==============================] - 26s 175ms/step - loss: 5.5176e-04\n",
      "Epoch 85/100\n",
      "146/146 [==============================] - 25s 174ms/step - loss: 5.7666e-04\n",
      "Epoch 86/100\n",
      "146/146 [==============================] - 26s 175ms/step - loss: 4.9049e-04\n",
      "Epoch 87/100\n",
      "146/146 [==============================] - 26s 175ms/step - loss: 5.1610e-04\n",
      "Epoch 88/100\n",
      "146/146 [==============================] - 25s 175ms/step - loss: 5.1741e-04\n",
      "Epoch 89/100\n",
      "146/146 [==============================] - 25s 174ms/step - loss: 5.0640e-04\n",
      "Epoch 90/100\n",
      "146/146 [==============================] - 26s 175ms/step - loss: 5.1703e-04\n",
      "Epoch 91/100\n",
      "146/146 [==============================] - 26s 175ms/step - loss: 4.8412e-04\n",
      "Epoch 92/100\n",
      "146/146 [==============================] - 25s 174ms/step - loss: 5.1424e-04\n",
      "Epoch 93/100\n",
      "146/146 [==============================] - 25s 174ms/step - loss: 5.1707e-04\n",
      "Epoch 94/100\n",
      "146/146 [==============================] - 26s 175ms/step - loss: 5.2241e-04\n",
      "Epoch 95/100\n",
      "146/146 [==============================] - 25s 174ms/step - loss: 5.5064e-04\n",
      "Epoch 96/100\n",
      "146/146 [==============================] - 25s 174ms/step - loss: 5.3261e-04\n",
      "Epoch 97/100\n",
      "146/146 [==============================] - 25s 174ms/step - loss: 4.7384e-04\n",
      "Epoch 98/100\n",
      "146/146 [==============================] - 26s 175ms/step - loss: 5.0723e-04\n",
      "Epoch 99/100\n",
      "146/146 [==============================] - 25s 174ms/step - loss: 5.1385e-04\n",
      "Epoch 100/100\n",
      "146/146 [==============================] - 26s 175ms/step - loss: 4.9545e-04\n"
     ]
    },
    {
     "data": {
      "text/plain": [
       "<keras.callbacks.History at 0x14bd04e2f40>"
      ]
     },
     "execution_count": 17,
     "metadata": {},
     "output_type": "execute_result"
    }
   ],
   "source": [
    "rnn.fit(X_train, y_train, epochs= 100 , batch_size = 32)"
   ]
  },
  {
   "cell_type": "markdown",
   "metadata": {
    "colab_type": "text",
    "id": "4hRau_lIkrE8"
   },
   "source": [
    "## Part 3 - Making the predictions and visualising the results"
   ]
  },
  {
   "cell_type": "markdown",
   "metadata": {
    "colab_type": "text",
    "id": "SgJO6qEDksxD"
   },
   "source": [
    "### Getting the real stock price of 2017"
   ]
  },
  {
   "cell_type": "code",
   "execution_count": 18,
   "metadata": {},
   "outputs": [],
   "source": [
    "dataset_test = pd.read_csv('TCS_Stock_Price_Test.csv')\n",
    "real_stock_price = dataset_test.iloc[:,1:2].values"
   ]
  },
  {
   "cell_type": "markdown",
   "metadata": {
    "colab_type": "text",
    "id": "GrvrLblxkz42"
   },
   "source": [
    "### Getting the predicted stock price of 2017"
   ]
  },
  {
   "cell_type": "code",
   "execution_count": 21,
   "metadata": {},
   "outputs": [],
   "source": [
    "dataset_total = pd.concat((dataset_train['Open'], dataset_test['Open']), axis = 0)\n",
    "inputs = dataset_total[len(dataset_total) - len(dataset_test) - 60:].values\n",
    "inputs = inputs.reshape(-1,1)\n",
    "inputs = sc.transform(inputs)\n",
    "X_test = []\n",
    "for i in range(60, 277):\n",
    "    X_test.append(inputs[i-60:i, 0])\n",
    "X_test = np.array(X_test)\n",
    "X_test = np.reshape(X_test, (X_test.shape[0], X_test.shape[1], 1))\n",
    "predicted_stock_price = rnn.predict(X_test)\n",
    "predicted_stock_price = sc.inverse_transform(predicted_stock_price)                                              "
   ]
  },
  {
   "cell_type": "markdown",
   "metadata": {
    "colab_type": "text",
    "id": "iFTNs3YHk6FQ"
   },
   "source": [
    "### Visualising the results"
   ]
  },
  {
   "cell_type": "code",
   "execution_count": 22,
   "metadata": {},
   "outputs": [
    {
     "data": {
      "image/png": "[encoded data removed]",
      "text/plain": [
       "<Figure size 432x288 with 1 Axes>"
      ]
     },
     "metadata": {
      "needs_background": "light"
     },
     "output_type": "display_data"
    }
   ],
   "source": [
    "plt.plot(real_stock_price, color = 'red', label = 'Real TCS Stock Price')\n",
    "plt.plot(predicted_stock_price, color = 'blue', label = 'Predicted TCS Stock Price')\n",
    "plt.title('TCS Stock Price Prediction')\n",
    "plt.xlabel('Time')\n",
    "plt.ylabel('TCS Stock Price')\n",
    "plt.legend()\n",
    "plt.show()"
   ]
  },
  {
   "cell_type": "code",
   "execution_count": 24,
   "metadata": {},
   "outputs": [],
   "source": [
    "# import math\n",
    "# from sklearn.metrics import mean_squared_error\n",
    "# rmse = math.sqrt(mean_squared_error(real_stock_price, predicted_stock_price))\n",
    "# print(rmse)"
   ]
  },
  {
   "cell_type": "markdown",
   "metadata": {},
   "source": [
    "## Evaluating the RNN\n",
    "Hi guys,\n",
    "\n",
    "as seen in the practical lectures, the RNN we built was a regressor. Indeed, we were dealing with Regression because we were trying to predict a continuous outcome (the Google Stock Price). For Regression, the way to evaluate the model performance is with a metric called RMSE (Root Mean Squared Error). It is calculated as the root of the mean of the squared differences between the predictions and the real values.\n",
    "\n",
    "However for our specific Stock Price Prediction problem, evaluating the model with the RMSE does not make much sense, since we are more interested in the directions taken by our predictions, rather than the closeness of their values to the real stock price. We want to check if our predictions follow the same directions as the real stock price and we don’t really care whether our predictions are close the real stock price. The predictions could indeed be close but often taking the opposite direction from the real stock price.\n",
    "\n",
    "Nevertheless if you are interested in the code that computes the RMSE for our Stock Price Prediction problem, please find it just below:\n",
    "\n",
    "#import math                                                                                                                \n",
    "#from sklearn.metrics import mean_squared_error                                                                              \n",
    "#rmse = math.sqrt(mean_squared_error(real_stock_price, predicted_stock_price)) \n",
    "\n",
    "Then consider dividing this RMSE by the range of the Google Stock Price values of January 2017 (that is around 800) to get a relative error, as opposed to an absolute error. It is more relevant since for example if you get an RMSE of 50, then this error would be very big if the stock price values ranged around 100, but it would be very small if the stock price values ranged around 10000.\n",
    "\n",
    "Enjoy Deep Learning!"
   ]
  },
  {
   "cell_type": "markdown",
   "metadata": {},
   "source": [
    "## Improving the RNN\n",
    "Hi guys,\n",
    "\n",
    "here are different ways to improve the RNN model:\n",
    "\n",
    "1. Getting more training data: we trained our model on the past 5 years of the Google Stock Price but it would be even better to train it on the past 10 years.\n",
    "\n",
    "2. Increasing the number of timesteps: the model remembered the stock prices from the 60 previous financial days to predict the stock price of the next day. That’s because we chose a number of 60 timesteps (3 months). You could try to increase the number of timesteps, by choosing for example 120 timesteps (6 months).\n",
    "\n",
    "3. Adding some other indicators: if you have the financial instinct that the stock price of some other companies might be correlated to the one of Google, you could add this other stock price as a new indicator in the training data.\n",
    "\n",
    "4. Adding more LSTM layers: we built a RNN with four LSTM layers but you could try with even more.\n",
    "\n",
    "5. Adding more neurones in the LSTM layers: we highlighted the fact that we needed a high number of neurones in the LSTM layers to respond better to the complexity of the problem and we chose to include 50 neurones in each of our 4 LSTM layers. You could try an architecture with even more neurones in each of the 4 (or more) LSTM layers.\n",
    "\n",
    "Enjoy Deep Learning!"
   ]
  }
 ],
 "metadata": {
  "colab": {
   "collapsed_sections": [],
   "name": "recurrent_neural_network.ipynb",
   "provenance": []
  },
  "kernelspec": {
   "display_name": "Python 3",
   "language": "python",
   "name": "python3"
  },
  "language_info": {
   "codemirror_mode": {
    "name": "ipython",
    "version": 3
   },
   "file_extension": ".py",
   "mimetype": "text/x-python",
   "name": "python",
   "nbconvert_exporter": "python",
   "pygments_lexer": "ipython3",
   "version": "3.8.8"
  }
 },
 "nbformat": 4,
 "nbformat_minor": 1
}
